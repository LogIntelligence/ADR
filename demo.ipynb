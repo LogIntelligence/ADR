{
 "cells": [
  {
   "cell_type": "markdown",
   "metadata": {
    "pycharm": {
     "name": "#%% md\n"
    }
   },
   "source": [
    "# ADR (Anomaly Detection by workflow Relations)"
   ]
  },
  {
   "cell_type": "markdown",
   "metadata": {
    "pycharm": {
     "name": "#%% md\n"
    }
   },
   "source": [
    "ADR mines numerical relations from log data and uses the relations for anomaly detection."
   ]
  },
  {
   "cell_type": "markdown",
   "metadata": {
    "pycharm": {
     "name": "#%% md\n"
    }
   },
   "source": [
    "In the following parts, we use the BGL logs as an example to show the capability of ADR."
   ]
  },
  {
   "cell_type": "markdown",
   "metadata": {
    "pycharm": {
     "name": "#%% md\n"
    }
   },
   "source": [
    "## parse raw logs to log events and build the event count matrix"
   ]
  },
  {
   "cell_type": "markdown",
   "metadata": {
    "pycharm": {
     "name": "#%% md\n"
    }
   },
   "source": [
    "The example raw logs are in \"_data/BGL_2k.log_\".\n",
    "\n",
    "For ease of presentation, the raw logs are already parsed into structured log events by Drain <sup>[1]</sup> and the parsed results are in \"_data/Drain_result/bgl_\" folder. The file \"_BGL_2k.log_structured.csv_\" are the parsed structured logs and the file \"_BGL_2k.log_templates.csv_\" are the templates (events) of the logs."
   ]
  },
  {
   "cell_type": "markdown",
   "metadata": {
    "pycharm": {
     "name": "#%% md\n"
    }
   },
   "source": [
    "## Build the event count matrix"
   ]
  },
  {
   "cell_type": "code",
   "execution_count": 1,
   "metadata": {
    "pycharm": {
     "name": "#%%\n"
    }
   },
   "outputs": [
    {
     "name": "stdout",
     "output_type": "stream",
     "text": [
      "INFO: Pandarallel will run on 8 workers.\n",
      "INFO: Pandarallel will use standard multiprocessing data transfer (pipe) to transfer data between the main process and workers.\n",
      "Loading...\n",
      "extracting block_id...\n"
     ]
    },
    {
     "data": {
      "text/plain": "VBox(children=(HBox(children=(IntProgress(value=0, description='0.00%', max=1396954), Label(value='0 / 1396954…",
      "application/vnd.jupyter.widget-view+json": {
       "version_major": 2,
       "version_minor": 0,
       "model_id": "c35f60294bbe4c99834dc2704d18b278"
      }
     },
     "metadata": {},
     "output_type": "display_data"
    },
    {
     "data": {
      "text/plain": "VBox(children=(HBox(children=(IntProgress(value=0, description='0.00%', max=1396954), Label(value='0 / 1396954…",
      "application/vnd.jupyter.widget-view+json": {
       "version_major": 2,
       "version_minor": 0,
       "model_id": "6cad371e481947bd90f84ab8678b2f6b"
      }
     },
     "metadata": {},
     "output_type": "display_data"
    },
    {
     "name": "stdout",
     "output_type": "stream",
     "text": [
      "Loaded!\n"
     ]
    },
    {
     "data": {
      "text/plain": "  0%|          | 0/11175629 [00:00<?, ?it/s]",
      "application/vnd.jupyter.widget-view+json": {
       "version_major": 2,
       "version_minor": 0,
       "model_id": "6265d650ff9c418d8493e94ac7d155d2"
      }
     },
     "metadata": {},
     "output_type": "display_data"
    },
    {
     "data": {
      "text/plain": "VBox(children=(HBox(children=(IntProgress(value=0, description='0.00%', max=71883), Label(value='0 / 71883')))…",
      "application/vnd.jupyter.widget-view+json": {
       "version_major": 2,
       "version_minor": 0,
       "model_id": "9e439a9b95d64d43ac026246ae62e9dd"
      }
     },
     "metadata": {},
     "output_type": "display_data"
    },
    {
     "name": "stderr",
     "output_type": "stream",
     "text": [
      "\n",
      "KeyboardInterrupt\n",
      "\n"
     ]
    }
   ],
   "source": [
    "from ADR import preprocess\n",
    "import pandas as pd\n",
    "\n",
    "print(\"Loading...\")\n",
    "log_path = 'logs/HDFS.log_structured.csv'\n",
    "label_path = 'logs/anomaly_label.csv'\n",
    "template_path = 'logs/'\n",
    "\n",
    "# df_log = pd.read_csv(log_path, sep=',', header=0)\n",
    "# eventID_list = pd.read_csv(template_path, sep=',', header=0)['EventId'].tolist()\n",
    "df_log = preprocess.load_hdfs_structured_logs(log_path, label_path)\n",
    "print(\"Loaded!\")\n",
    "# df_log[\"bLabel\"] = True\n",
    "# df_log.loc[df_log[\"Label\"]==\"-\", \"bLabel\"] = False\n",
    "\n",
    "seq_df, seq_ecm_df = preprocess.event_sequence_by_identifier(df_log, col_identifier='BlockId', col_EventId='EventId',\n",
    "                                                             col_bLabel='bLabel')\n",
    "\n",
    "seq_ecm_df = seq_ecm_df.fillna(0).astype(int)"
   ]
  },
  {
   "cell_type": "markdown",
   "source": [],
   "metadata": {
    "collapsed": false,
    "pycharm": {
     "name": "#%% md\n"
    }
   }
  },
  {
   "cell_type": "code",
   "execution_count": 18,
   "metadata": {
    "pycharm": {
     "name": "#%%\n"
    }
   },
   "outputs": [
    {
     "data": {
      "text/plain": "         bLabel                                        seq_EventId  \\\nsadmin1    True  [5947eee3, ce370d35, 77197260, 77197260, c6e07...   \nsadmin2   False  [87b68315, ff46cb1d, ff46cb1d, 5947eee3, ff46c...   \nsn209     False  [38bd5405, 2a2db037, fadd4d28, 182a3d2f, 5947e...   \nshpnfs    False  [d7b7a5ec, 5947eee3, d7b7a5ec, d7b7a5ec, a7683...   \nsn504     False  [182a3d2f, 5947eee3, 182a3d2f, 182a3d2f, 38bd5...   \n...         ...                                                ...   \nsn409     False  [5947eee3, 5947eee3, 5947eee3, 5947eee3, 5947e...   \nsn471     False  [8c537990, c508951e, e5584a32, 4124b970, 444bc...   \nsn250      True  [6dc36b09, 0f5f997d, 0f5f997d, 6dc36b09, 5209b...   \nsn355     False  [6dc36b09, 0f5f997d, 0f5f997d, 6dc36b09, 5209b...   \nsn511      True  [91fea51a, 8a332682, 6dc36b09, 0f5f997d, 0f5f9...   \n\n                                                seq_LineId  \\\nsadmin1  [1, 5, 6, 7, 8, 9, 10, 11, 12, 13, 19, 20, 21,...   \nsadmin2  [2, 3, 4, 32, 33, 34, 35, 36, 37, 577, 578, 57...   \nsn209    [14, 15, 16, 17, 109, 561, 562, 563, 564, 596,...   \nshpnfs   [18, 38, 555, 626, 672, 724, 777, 856, 906, 94...   \nsn504    [24, 292, 551, 552, 569, 570, 571, 582, 586, 5...   \n...                                                    ...   \nsn409    [554, 2448, 5064, 6996, 10153, 11813, 12808, 1...   \nsn471    [189734, 189735, 189736, 189737, 189738, 18973...   \nsn250    [263684, 263685, 263686, 263687, 263688, 26368...   \nsn355    [265506, 265507, 265508, 265509, 265510, 26551...   \nsn511    [267347, 267348, 267349, 267350, 267351, 26735...   \n\n                                                seq_bLabel  \nsadmin1  [False, False, True, True, True, True, True, T...  \nsadmin2  [False, False, False, False, False, False, Fal...  \nsn209    [False, False, False, False, False, False, Fal...  \nshpnfs   [False, False, False, False, False, False, Fal...  \nsn504    [False, False, False, False, False, False, Fal...  \n...                                                    ...  \nsn409    [False, False, False, False, False, False, Fal...  \nsn471    [False, False, False, False, False, False, Fal...  \nsn250    [False, False, False, False, False, False, Fal...  \nsn355    [False, False, False, False, False, False, Fal...  \nsn511    [False, False, False, False, False, False, Fal...  \n\n[517 rows x 4 columns]",
      "text/html": "<div>\n<style scoped>\n    .dataframe tbody tr th:only-of-type {\n        vertical-align: middle;\n    }\n\n    .dataframe tbody tr th {\n        vertical-align: top;\n    }\n\n    .dataframe thead th {\n        text-align: right;\n    }\n</style>\n<table border=\"1\" class=\"dataframe\">\n  <thead>\n    <tr style=\"text-align: right;\">\n      <th></th>\n      <th>bLabel</th>\n      <th>seq_EventId</th>\n      <th>seq_LineId</th>\n      <th>seq_bLabel</th>\n    </tr>\n  </thead>\n  <tbody>\n    <tr>\n      <th>sadmin1</th>\n      <td>True</td>\n      <td>[5947eee3, ce370d35, 77197260, 77197260, c6e07...</td>\n      <td>[1, 5, 6, 7, 8, 9, 10, 11, 12, 13, 19, 20, 21,...</td>\n      <td>[False, False, True, True, True, True, True, T...</td>\n    </tr>\n    <tr>\n      <th>sadmin2</th>\n      <td>False</td>\n      <td>[87b68315, ff46cb1d, ff46cb1d, 5947eee3, ff46c...</td>\n      <td>[2, 3, 4, 32, 33, 34, 35, 36, 37, 577, 578, 57...</td>\n      <td>[False, False, False, False, False, False, Fal...</td>\n    </tr>\n    <tr>\n      <th>sn209</th>\n      <td>False</td>\n      <td>[38bd5405, 2a2db037, fadd4d28, 182a3d2f, 5947e...</td>\n      <td>[14, 15, 16, 17, 109, 561, 562, 563, 564, 596,...</td>\n      <td>[False, False, False, False, False, False, Fal...</td>\n    </tr>\n    <tr>\n      <th>shpnfs</th>\n      <td>False</td>\n      <td>[d7b7a5ec, 5947eee3, d7b7a5ec, d7b7a5ec, a7683...</td>\n      <td>[18, 38, 555, 626, 672, 724, 777, 856, 906, 94...</td>\n      <td>[False, False, False, False, False, False, Fal...</td>\n    </tr>\n    <tr>\n      <th>sn504</th>\n      <td>False</td>\n      <td>[182a3d2f, 5947eee3, 182a3d2f, 182a3d2f, 38bd5...</td>\n      <td>[24, 292, 551, 552, 569, 570, 571, 582, 586, 5...</td>\n      <td>[False, False, False, False, False, False, Fal...</td>\n    </tr>\n    <tr>\n      <th>...</th>\n      <td>...</td>\n      <td>...</td>\n      <td>...</td>\n      <td>...</td>\n    </tr>\n    <tr>\n      <th>sn409</th>\n      <td>False</td>\n      <td>[5947eee3, 5947eee3, 5947eee3, 5947eee3, 5947e...</td>\n      <td>[554, 2448, 5064, 6996, 10153, 11813, 12808, 1...</td>\n      <td>[False, False, False, False, False, False, Fal...</td>\n    </tr>\n    <tr>\n      <th>sn471</th>\n      <td>False</td>\n      <td>[8c537990, c508951e, e5584a32, 4124b970, 444bc...</td>\n      <td>[189734, 189735, 189736, 189737, 189738, 18973...</td>\n      <td>[False, False, False, False, False, False, Fal...</td>\n    </tr>\n    <tr>\n      <th>sn250</th>\n      <td>True</td>\n      <td>[6dc36b09, 0f5f997d, 0f5f997d, 6dc36b09, 5209b...</td>\n      <td>[263684, 263685, 263686, 263687, 263688, 26368...</td>\n      <td>[False, False, False, False, False, False, Fal...</td>\n    </tr>\n    <tr>\n      <th>sn355</th>\n      <td>False</td>\n      <td>[6dc36b09, 0f5f997d, 0f5f997d, 6dc36b09, 5209b...</td>\n      <td>[265506, 265507, 265508, 265509, 265510, 26551...</td>\n      <td>[False, False, False, False, False, False, Fal...</td>\n    </tr>\n    <tr>\n      <th>sn511</th>\n      <td>True</td>\n      <td>[91fea51a, 8a332682, 6dc36b09, 0f5f997d, 0f5f9...</td>\n      <td>[267347, 267348, 267349, 267350, 267351, 26735...</td>\n      <td>[False, False, False, False, False, False, Fal...</td>\n    </tr>\n  </tbody>\n</table>\n<p>517 rows × 4 columns</p>\n</div>"
     },
     "execution_count": 18,
     "metadata": {},
     "output_type": "execute_result"
    }
   ],
   "source": [
    "# print the session sequences and the events of each session\n",
    "seq_df"
   ]
  },
  {
   "cell_type": "code",
   "execution_count": 19,
   "metadata": {
    "pycharm": {
     "name": "#%%\n"
    }
   },
   "outputs": [
    {
     "data": {
      "text/plain": "        77197260 c6e07261 fc10e26c ce370d35 9ce775c4 e8b0f746 2b97ca7e  \\\nsadmin1   200254   200254    96904    76999    41633     4230     4020   \nsadmin2        0        0        0        0        0        0        0   \nsn209          0        0        0        0        0        0        0   \nshpnfs         0        0        0        0      249        0        0   \nsn504          0        0        0        0        0        0        0   \n...          ...      ...      ...      ...      ...      ...      ...   \nsn409          0        0        0        0        0        0        0   \nsn471          0        0        0        0        0        0        0   \nsn250          0        0        0        0        0        0        0   \nsn355          0        0        0        0        0        0        0   \nsn511          0        0        0        0        0        0        0   \n\n        dc59a28d f117df68 c89a99ae  ... 30664715 690d155d d0ce5cf3 4fb89c05  \\\nsadmin1     4020     4020     4020  ...        0        0        0        0   \nsadmin2        0        0        0  ...        0        0        0        0   \nsn209          0        0        0  ...        0        0        0        0   \nshpnfs         0        0        0  ...        0        0        0        0   \nsn504          0        0        0  ...        0        0        0        0   \n...          ...      ...      ...  ...      ...      ...      ...      ...   \nsn409          0        0        0  ...        0        0        0        0   \nsn471          0        0        0  ...        0        0        0        0   \nsn250          0        0        0  ...        0        0        0        0   \nsn355          0        0        0  ...        0        0        0        0   \nsn511          0        0        0  ...        0        0        0        0   \n\n        8b176746 0703bd02 09e9d8dc ce9fb8d3 ba3f7700 7b5753a9  \nsadmin1        0        0        0        0        0        0  \nsadmin2        0        0        0        0        0        0  \nsn209          0        0        0        0        0        0  \nshpnfs         0        0        0        0        0        0  \nsn504          0        0        0        0        0        0  \n...          ...      ...      ...      ...      ...      ...  \nsn409          0        0        0        0        0        0  \nsn471          0        1        1        1        0        0  \nsn250          0        0        0        0        0        0  \nsn355          0        0        0        0        1        1  \nsn511          0        0        0        0        0        0  \n\n[517 rows x 988 columns]",
      "text/html": "<div>\n<style scoped>\n    .dataframe tbody tr th:only-of-type {\n        vertical-align: middle;\n    }\n\n    .dataframe tbody tr th {\n        vertical-align: top;\n    }\n\n    .dataframe thead tr th {\n        text-align: left;\n    }\n</style>\n<table border=\"1\" class=\"dataframe\">\n  <thead>\n    <tr>\n      <th></th>\n      <th>77197260</th>\n      <th>c6e07261</th>\n      <th>fc10e26c</th>\n      <th>ce370d35</th>\n      <th>9ce775c4</th>\n      <th>e8b0f746</th>\n      <th>2b97ca7e</th>\n      <th>dc59a28d</th>\n      <th>f117df68</th>\n      <th>c89a99ae</th>\n      <th>...</th>\n      <th>30664715</th>\n      <th>690d155d</th>\n      <th>d0ce5cf3</th>\n      <th>4fb89c05</th>\n      <th>8b176746</th>\n      <th>0703bd02</th>\n      <th>09e9d8dc</th>\n      <th>ce9fb8d3</th>\n      <th>ba3f7700</th>\n      <th>7b5753a9</th>\n    </tr>\n  </thead>\n  <tbody>\n    <tr>\n      <th>sadmin1</th>\n      <td>200254</td>\n      <td>200254</td>\n      <td>96904</td>\n      <td>76999</td>\n      <td>41633</td>\n      <td>4230</td>\n      <td>4020</td>\n      <td>4020</td>\n      <td>4020</td>\n      <td>4020</td>\n      <td>...</td>\n      <td>0</td>\n      <td>0</td>\n      <td>0</td>\n      <td>0</td>\n      <td>0</td>\n      <td>0</td>\n      <td>0</td>\n      <td>0</td>\n      <td>0</td>\n      <td>0</td>\n    </tr>\n    <tr>\n      <th>sadmin2</th>\n      <td>0</td>\n      <td>0</td>\n      <td>0</td>\n      <td>0</td>\n      <td>0</td>\n      <td>0</td>\n      <td>0</td>\n      <td>0</td>\n      <td>0</td>\n      <td>0</td>\n      <td>...</td>\n      <td>0</td>\n      <td>0</td>\n      <td>0</td>\n      <td>0</td>\n      <td>0</td>\n      <td>0</td>\n      <td>0</td>\n      <td>0</td>\n      <td>0</td>\n      <td>0</td>\n    </tr>\n    <tr>\n      <th>sn209</th>\n      <td>0</td>\n      <td>0</td>\n      <td>0</td>\n      <td>0</td>\n      <td>0</td>\n      <td>0</td>\n      <td>0</td>\n      <td>0</td>\n      <td>0</td>\n      <td>0</td>\n      <td>...</td>\n      <td>0</td>\n      <td>0</td>\n      <td>0</td>\n      <td>0</td>\n      <td>0</td>\n      <td>0</td>\n      <td>0</td>\n      <td>0</td>\n      <td>0</td>\n      <td>0</td>\n    </tr>\n    <tr>\n      <th>shpnfs</th>\n      <td>0</td>\n      <td>0</td>\n      <td>0</td>\n      <td>0</td>\n      <td>249</td>\n      <td>0</td>\n      <td>0</td>\n      <td>0</td>\n      <td>0</td>\n      <td>0</td>\n      <td>...</td>\n      <td>0</td>\n      <td>0</td>\n      <td>0</td>\n      <td>0</td>\n      <td>0</td>\n      <td>0</td>\n      <td>0</td>\n      <td>0</td>\n      <td>0</td>\n      <td>0</td>\n    </tr>\n    <tr>\n      <th>sn504</th>\n      <td>0</td>\n      <td>0</td>\n      <td>0</td>\n      <td>0</td>\n      <td>0</td>\n      <td>0</td>\n      <td>0</td>\n      <td>0</td>\n      <td>0</td>\n      <td>0</td>\n      <td>...</td>\n      <td>0</td>\n      <td>0</td>\n      <td>0</td>\n      <td>0</td>\n      <td>0</td>\n      <td>0</td>\n      <td>0</td>\n      <td>0</td>\n      <td>0</td>\n      <td>0</td>\n    </tr>\n    <tr>\n      <th>...</th>\n      <td>...</td>\n      <td>...</td>\n      <td>...</td>\n      <td>...</td>\n      <td>...</td>\n      <td>...</td>\n      <td>...</td>\n      <td>...</td>\n      <td>...</td>\n      <td>...</td>\n      <td>...</td>\n      <td>...</td>\n      <td>...</td>\n      <td>...</td>\n      <td>...</td>\n      <td>...</td>\n      <td>...</td>\n      <td>...</td>\n      <td>...</td>\n      <td>...</td>\n      <td>...</td>\n    </tr>\n    <tr>\n      <th>sn409</th>\n      <td>0</td>\n      <td>0</td>\n      <td>0</td>\n      <td>0</td>\n      <td>0</td>\n      <td>0</td>\n      <td>0</td>\n      <td>0</td>\n      <td>0</td>\n      <td>0</td>\n      <td>...</td>\n      <td>0</td>\n      <td>0</td>\n      <td>0</td>\n      <td>0</td>\n      <td>0</td>\n      <td>0</td>\n      <td>0</td>\n      <td>0</td>\n      <td>0</td>\n      <td>0</td>\n    </tr>\n    <tr>\n      <th>sn471</th>\n      <td>0</td>\n      <td>0</td>\n      <td>0</td>\n      <td>0</td>\n      <td>0</td>\n      <td>0</td>\n      <td>0</td>\n      <td>0</td>\n      <td>0</td>\n      <td>0</td>\n      <td>...</td>\n      <td>0</td>\n      <td>0</td>\n      <td>0</td>\n      <td>0</td>\n      <td>0</td>\n      <td>1</td>\n      <td>1</td>\n      <td>1</td>\n      <td>0</td>\n      <td>0</td>\n    </tr>\n    <tr>\n      <th>sn250</th>\n      <td>0</td>\n      <td>0</td>\n      <td>0</td>\n      <td>0</td>\n      <td>0</td>\n      <td>0</td>\n      <td>0</td>\n      <td>0</td>\n      <td>0</td>\n      <td>0</td>\n      <td>...</td>\n      <td>0</td>\n      <td>0</td>\n      <td>0</td>\n      <td>0</td>\n      <td>0</td>\n      <td>0</td>\n      <td>0</td>\n      <td>0</td>\n      <td>0</td>\n      <td>0</td>\n    </tr>\n    <tr>\n      <th>sn355</th>\n      <td>0</td>\n      <td>0</td>\n      <td>0</td>\n      <td>0</td>\n      <td>0</td>\n      <td>0</td>\n      <td>0</td>\n      <td>0</td>\n      <td>0</td>\n      <td>0</td>\n      <td>...</td>\n      <td>0</td>\n      <td>0</td>\n      <td>0</td>\n      <td>0</td>\n      <td>0</td>\n      <td>0</td>\n      <td>0</td>\n      <td>0</td>\n      <td>1</td>\n      <td>1</td>\n    </tr>\n    <tr>\n      <th>sn511</th>\n      <td>0</td>\n      <td>0</td>\n      <td>0</td>\n      <td>0</td>\n      <td>0</td>\n      <td>0</td>\n      <td>0</td>\n      <td>0</td>\n      <td>0</td>\n      <td>0</td>\n      <td>...</td>\n      <td>0</td>\n      <td>0</td>\n      <td>0</td>\n      <td>0</td>\n      <td>0</td>\n      <td>0</td>\n      <td>0</td>\n      <td>0</td>\n      <td>0</td>\n      <td>0</td>\n    </tr>\n  </tbody>\n</table>\n<p>517 rows × 988 columns</p>\n</div>"
     },
     "execution_count": 19,
     "metadata": {},
     "output_type": "execute_result"
    }
   ],
   "source": [
    "# print the event count matrix\n",
    "seq_ecm_df"
   ]
  },
  {
   "cell_type": "code",
   "execution_count": 20,
   "outputs": [],
   "source": [
    "x, y = [], []\n",
    "for idx, r in seq_df.iterrows():\n",
    "    y.append(r['bLabel'])\n",
    "    x.append(seq_ecm_df.loc[idx, :].tolist())\n",
    "y = [int(l) for l in y]"
   ],
   "metadata": {
    "collapsed": false,
    "pycharm": {
     "name": "#%%\n"
    }
   }
  },
  {
   "cell_type": "markdown",
   "metadata": {
    "pycharm": {
     "name": "#%% md\n"
    }
   },
   "source": [
    "## load datasets\n",
    "\n",
    "The example log with 2k lines are too small to be used for anomaly detection. So we use the event count matrix of the whole BGL dataset for the anomaly detection demo."
   ]
  },
  {
   "cell_type": "code",
   "execution_count": 21,
   "metadata": {
    "ExecuteTime": {
     "end_time": "2021-04-26T14:47:14.214918Z",
     "start_time": "2021-04-26T14:47:14.203239Z"
    },
    "pycharm": {
     "name": "#%%\n"
    }
   },
   "outputs": [],
   "source": [
    "import numpy as np\n",
    "import pickle\n",
    "\n",
    "x = np.array(x, dtype=float)\n",
    "y = np.array(y, dtype=int)\n",
    "\n",
    "with open(\"spirit.pkl\", mode=\"wb\") as f:\n",
    "    pickle.dump((x, y), f, protocol=pickle.HIGHEST_PROTOCOL)"
   ]
  },
  {
   "cell_type": "code",
   "execution_count": 22,
   "outputs": [],
   "source": [
    "import pickle\n",
    "\n",
    "with open(\"spirit.pkl\", mode=\"rb\") as f:\n",
    "    (x, y) = pickle.load(f)"
   ],
   "metadata": {
    "collapsed": false,
    "pycharm": {
     "name": "#%%\n"
    }
   }
  },
  {
   "cell_type": "code",
   "execution_count": null,
   "outputs": [],
   "source": [],
   "metadata": {
    "collapsed": false,
    "pycharm": {
     "name": "#%%\n"
    }
   }
  },
  {
   "cell_type": "markdown",
   "metadata": {
    "pycharm": {
     "name": "#%% md\n"
    }
   },
   "source": [
    "## sADR (semi-supervised, need normal logs for training)"
   ]
  },
  {
   "cell_type": "code",
   "execution_count": 24,
   "outputs": [
    {
     "name": "stdout",
     "output_type": "stream",
     "text": [
      "******* time:0 ********\n",
      "-----train ratio:400-----\n",
      "Accuracy on testing set:\n",
      "precision, recall, f1: [0.75, 1.0, 0.8571]\n"
     ]
    }
   ],
   "source": [
    "from ADR import preprocess\n",
    "from ADR import sADR\n",
    "\n",
    "res = []\n",
    "for t in range(1):\n",
    "    print(f'******* time:{t} ********')\n",
    "    train_ratio = [400]\n",
    "    r_res = []\n",
    "    for r in train_ratio:\n",
    "        # train_number = train_numbers[i]\n",
    "        print(f'-----train ratio:{r}-----')\n",
    "        # if i == 0:\n",
    "        #     x_train, y_train, x_test, y_test = x_train, y_train, x_test, y_test = preprocess.split_to_train_test_by_num(x, y, num_train=train_number)\n",
    "        # else:\n",
    "        x_train, y_train, x_test, y_test = preprocess.split_to_train_test_by_num(x, y, num_train=r)\n",
    "        # x_train = np.concatenate((x_train, x_train_adding), axis=0)\n",
    "        # y_train = np.concatenate((y_train, y_train_adding), axis=0)\n",
    "\n",
    "        # print(np.arange(x_train.shape[0]))\n",
    "        model = sADR.sADR()\n",
    "        model.fit(x_train, y_train, sample=False)\n",
    "        # precision, recall, f1 = model.evaluate(x_train, y_train)\n",
    "        # print('Accuracy on training set:')\n",
    "        # print(f\"precision, recall, f1: {[precision, recall, f1]}\")\n",
    "\n",
    "        precision, recall, f1 = model.evaluate(x_test, y_test)\n",
    "        print('Accuracy on testing set:')\n",
    "        print(f\"precision, recall, f1: {[precision, recall, f1]}\")\n",
    "        r_res.extend([r, precision, recall, f1])\n",
    "    res.append(r_res)"
   ],
   "metadata": {
    "collapsed": false,
    "pycharm": {
     "name": "#%%\n"
    }
   }
  },
  {
   "cell_type": "code",
   "execution_count": 29,
   "outputs": [
    {
     "name": "stdout",
     "output_type": "stream",
     "text": [
      "0.84918 1.0 0.918354\n",
      "0.04578000000000004\n",
      "0.0\n",
      "0.02735399999999999\n"
     ]
    }
   ],
   "source": [
    "import numpy as np\n",
    "import statistics\n",
    "\n",
    "p = np.array([x[1] for x in res])\n",
    "r = np.array([x[2] for x in res])\n",
    "f = np.array([x[3] for x in res])\n",
    "print(statistics.mean(p), statistics.mean(r), statistics.mean(f))\n",
    "print(max(abs(p - statistics.mean(p))))\n",
    "print(max(abs(r - statistics.mean(r))))\n",
    "print(max(abs(f - statistics.mean(f))))"
   ],
   "metadata": {
    "collapsed": false,
    "pycharm": {
     "name": "#%%\n"
    }
   }
  },
  {
   "cell_type": "code",
   "execution_count": null,
   "outputs": [],
   "source": [
    "from multiprocessing import Pool\n",
    "import tqdm\n",
    "import time\n",
    "\n",
    "\n",
    "def _foo(my_number):\n",
    "    square = my_number * my_number\n",
    "    time.sleep(1)\n",
    "    return square\n",
    "\n",
    "\n",
    "with Pool(2) as p:\n",
    "    r = list(tqdm.tqdm(p.imap(_foo, range(30)), total=30))"
   ],
   "metadata": {
    "collapsed": false,
    "pycharm": {
     "name": "#%%\n"
    }
   }
  },
  {
   "cell_type": "code",
   "execution_count": 29,
   "outputs": [],
   "source": [
    "import pandas as pd\n",
    "\n",
    "res_pd = pd.DataFrame(res)\n",
    "res_pd.to_csv(\"random_res_spirit.csv\")"
   ],
   "metadata": {
    "collapsed": false,
    "pycharm": {
     "name": "#%%\n"
    }
   }
  },
  {
   "cell_type": "code",
   "execution_count": 11,
   "metadata": {
    "ExecuteTime": {
     "end_time": "2021-04-26T13:59:18.654504Z",
     "start_time": "2021-04-26T13:59:18.638851Z"
    },
    "scrolled": true,
    "pycharm": {
     "name": "#%%\n"
    }
   },
   "outputs": [
    {
     "name": "stdout",
     "output_type": "stream",
     "text": [
      "==============================\n",
      "bgl\n",
      "-----train ratio:0.005-----\n",
      "Accuracy on training set:\n",
      "precision, recall, f1: [0.9226, 1.0, 0.9598]\n",
      "Accuracy on testing set:\n",
      "precision, recall, f1: [0.8441, 1.0, 0.9155]\n",
      "-----train ratio:0.01-----\n",
      "Accuracy on training set:\n",
      "precision, recall, f1: [0.9715, 1.0, 0.9856]\n",
      "Accuracy on testing set:\n",
      "precision, recall, f1: [0.9283, 1.0, 0.9628]\n",
      "-----train ratio:0.02-----\n",
      "Accuracy on training set:\n",
      "precision, recall, f1: [0.9718, 1.0, 0.9857]\n",
      "Accuracy on testing set:\n",
      "precision, recall, f1: [0.9491, 1.0, 0.9739]\n"
     ]
    }
   ],
   "source": [
    "from ADR import preprocess\n",
    "from ADR import sADR\n",
    "\n",
    "train_ratio = [0.005, 0.01, 0.02]\n",
    "\n",
    "for log_name, x_y_xColumns in log_datasets.items():\n",
    "    print(f'=' * 30)\n",
    "    print(log_name)\n",
    "    x, y, xColumns = x_y_xColumns['x'], x_y_xColumns['y'], x_y_xColumns['xColumns']\n",
    "    # break\n",
    "    for r in train_ratio:\n",
    "        # train_number = train_numbers[i]\n",
    "        print(f'-----train ratio:{r}-----')\n",
    "        # if i == 0:\n",
    "        #     x_train, y_train, x_test, y_test = x_train, y_train, x_test, y_test = preprocess.split_to_train_test_by_num(x, y, num_train=train_number)\n",
    "        # else:\n",
    "        x_train, y_train, x_test, y_test = preprocess.split_to_train_test_by_ratio(x, y, train_ratio=r)\n",
    "        # x_train = np.concatenate((x_train, x_train_adding), axis=0)\n",
    "        # y_train = np.concatenate((y_train, y_train_adding), axis=0)\n",
    "\n",
    "        # print(np.arange(x_train.shape[0]))\n",
    "        model = sADR.sADR()\n",
    "        model.fit(x_train, y_train)\n",
    "        precision, recall, f1 = model.evaluate(x_train, y_train)\n",
    "        print('Accuracy on training set:')\n",
    "        print(f\"precision, recall, f1: {[precision, recall, f1]}\")\n",
    "\n",
    "        precision, recall, f1 = model.evaluate(x_test, y_test)\n",
    "        print('Accuracy on testing set:')\n",
    "        print(f\"precision, recall, f1: {[precision, recall, f1]}\")"
   ]
  },
  {
   "cell_type": "code",
   "execution_count": 9,
   "outputs": [
    {
     "data": {
      "text/plain": "69252"
     },
     "execution_count": 9,
     "metadata": {},
     "output_type": "execute_result"
    }
   ],
   "source": [
    "len(x)"
   ],
   "metadata": {
    "collapsed": false,
    "pycharm": {
     "name": "#%%\n"
    }
   }
  },
  {
   "cell_type": "markdown",
   "metadata": {
    "pycharm": {
     "name": "#%% md\n"
    }
   },
   "source": [
    "## uADR (unsupervised, do not need labelled logs for training)"
   ]
  },
  {
   "cell_type": "code",
   "execution_count": 4,
   "metadata": {
    "ExecuteTime": {
     "end_time": "2021-04-26T14:47:21.074112Z",
     "start_time": "2021-04-26T14:47:18.011598Z"
    },
    "pycharm": {
     "name": "#%%\n"
    }
   },
   "outputs": [
    {
     "name": "stdout",
     "output_type": "stream",
     "text": [
      "========\n",
      "bgl\n",
      "0.4530555074221683\n",
      "x shape: (69252, 384)\n",
      "x_train shape:(55401, 384)\n",
      "x_test shape:(13851, 384)\n"
     ]
    }
   ],
   "source": [
    "from ADR import preprocess\n",
    "\n",
    "u_log_datasets_train_test = {}\n",
    "\n",
    "u_train_ratios = {\n",
    "    'bgl': 0.8\n",
    "}\n",
    "for name, x_y_xColumns in log_datasets.items():\n",
    "    if name in ['hdfs', 'bgl']:\n",
    "        print(\"========\")\n",
    "        print(name)\n",
    "        x, y, xColumns = x_y_xColumns['x'], x_y_xColumns['y'], x_y_xColumns['xColumns']\n",
    "        print(y.sum() / y.size)\n",
    "        print(f'x shape: {x.shape}')\n",
    "        x_train, y_train, x_test, y_test = preprocess.split_to_train_test_by_ratio(x, y,\n",
    "                                                                                   train_ratio=u_train_ratios[name])\n",
    "        u_log_datasets_train_test[name] = [x_train, y_train, x_test, y_test]\n",
    "        print(f'x_train shape:{x_train.shape}')\n",
    "        print(f'x_test shape:{x_test.shape}')"
   ]
  },
  {
   "cell_type": "code",
   "execution_count": 14,
   "outputs": [
    {
     "data": {
      "text/plain": "115"
     },
     "execution_count": 14,
     "metadata": {},
     "output_type": "execute_result"
    }
   ],
   "source": [
    "sum(y)"
   ],
   "metadata": {
    "collapsed": false,
    "pycharm": {
     "name": "#%%\n"
    }
   }
  },
  {
   "cell_type": "code",
   "execution_count": 16,
   "metadata": {
    "ExecuteTime": {
     "end_time": "2021-04-27T02:00:06.800166Z",
     "start_time": "2021-04-27T01:49:45.925436Z"
    },
    "pycharm": {
     "name": "#%%\n"
    }
   },
   "outputs": [
    {
     "name": "stdout",
     "output_type": "stream",
     "text": [
      "testing....\n",
      "Accuracy on testing set:\n",
      "precision, recall, f1: [0.2788, 1.0, 0.4361]\n",
      "******* time:0 ********\n",
      "training....\n",
      "testing....\n",
      "Accuracy on testing set:\n",
      "precision, recall, f1: [0.2212, 1.0, 0.3622]\n",
      "******* time:0 ********\n",
      "training....\n",
      "testing....\n",
      "Accuracy on testing set:\n",
      "precision, recall, f1: [0.2019, 1.0, 0.336]\n",
      "==============================\n",
      "bgl\n",
      "******* time:0 ********\n",
      "training....\n",
      "testing....\n",
      "Accuracy on testing set:\n",
      "precision, recall, f1: [0.2404, 1.0, 0.3876]\n",
      "******* time:1 ********\n",
      "training....\n",
      "testing....\n",
      "Accuracy on testing set:\n",
      "precision, recall, f1: [0.2788, 1.0, 0.4361]\n",
      "******* time:2 ********\n",
      "training....\n",
      "testing....\n",
      "Accuracy on testing set:\n",
      "precision, recall, f1: [0.25, 1.0, 0.4]\n",
      "******* time:3 ********\n",
      "training....\n",
      "testing....\n",
      "Accuracy on testing set:\n",
      "precision, recall, f1: [0.2212, 1.0, 0.3622]\n",
      "******* time:4 ********\n",
      "training....\n",
      "testing....\n",
      "Accuracy on testing set:\n",
      "precision, recall, f1: [0.2115, 1.0, 0.3492]\n",
      "******* time:5 ********\n",
      "training....\n",
      "testing....\n",
      "Accuracy on testing set:\n",
      "precision, recall, f1: [0.2308, 1.0, 0.375]\n",
      "******* time:6 ********\n",
      "training....\n",
      "testing....\n",
      "Accuracy on testing set:\n",
      "precision, recall, f1: [0.2885, 1.0, 0.4478]\n",
      "******* time:7 ********\n",
      "training....\n",
      "testing....\n",
      "Accuracy on testing set:\n",
      "precision, recall, f1: [0.1923, 1.0, 0.3226]\n",
      "******* time:8 ********\n",
      "training....\n",
      "testing....\n",
      "Accuracy on testing set:\n",
      "precision, recall, f1: [0.2404, 1.0, 0.3876]\n",
      "******* time:9 ********\n",
      "training....\n",
      "testing....\n",
      "Accuracy on testing set:\n",
      "precision, recall, f1: [0.2019, 1.0, 0.336]\n",
      "******* time:0 ********\n",
      "training....\n",
      "testing....\n",
      "Accuracy on testing set:\n",
      "precision, recall, f1: [0.2692, 1.0, 0.4242]\n",
      "******* time:1 ********\n",
      "training....\n",
      "testing....\n",
      "Accuracy on testing set:\n",
      "precision, recall, f1: [0.2212, 1.0, 0.3622]\n",
      "******* time:2 ********\n",
      "training....\n",
      "testing....\n",
      "Accuracy on testing set:\n",
      "precision, recall, f1: [0.2692, 1.0, 0.4242]\n",
      "******* time:3 ********\n",
      "training....\n",
      "testing....\n",
      "Accuracy on testing set:\n",
      "precision, recall, f1: [0.2308, 1.0, 0.375]\n",
      "******* time:4 ********\n",
      "training....\n",
      "testing....\n",
      "Accuracy on testing set:\n",
      "precision, recall, f1: [0.1731, 1.0, 0.2951]\n",
      "******* time:5 ********\n",
      "training....\n",
      "testing....\n",
      "Accuracy on testing set:\n",
      "precision, recall, f1: [0.1923, 1.0, 0.3226]\n",
      "******* time:6 ********\n",
      "training....\n",
      "testing....\n",
      "Accuracy on testing set:\n",
      "precision, recall, f1: [0.2981, 1.0, 0.4593]\n",
      "******* time:7 ********\n",
      "training....\n",
      "testing....\n",
      "Accuracy on testing set:\n",
      "precision, recall, f1: [0.2308, 1.0, 0.375]\n",
      "******* time:8 ********\n",
      "training....\n",
      "testing....\n",
      "Accuracy on testing set:\n",
      "precision, recall, f1: [0.2212, 1.0, 0.3622]\n",
      "******* time:9 ********\n",
      "training....\n",
      "testing....\n",
      "Accuracy on testing set:\n",
      "precision, recall, f1: [0.2981, 1.0, 0.4593]\n"
     ]
    }
   ],
   "source": [
    "from ADR import uADR\n",
    "from ADR import preprocess\n",
    "\n",
    "log_name = 'bgl'\n",
    "estimated_pN = 0.5\n",
    "\n",
    "print('=' * 30)\n",
    "print(log_name)\n",
    "res = []\n",
    "r_res = []\n",
    "for estimated_pN in [0.9, 0.8]:\n",
    "    for t in range(10):\n",
    "        print(f'******* time:{t} ********')\n",
    "        # print(f'estimated_pN: {estimated_pN}')\n",
    "        x_train, y_train, x_test, y_test = preprocess.split_to_train_test_by_ratio(x, y, train_ratio=0.8)\n",
    "\n",
    "        model = uADR.uADR(AN_ratio=1 - estimated_pN, nrows_per_sample=10, nrounds=100)\n",
    "        print(\"training....\")\n",
    "        model.fit(x_train)\n",
    "        # precision, recall, f1 = model.evaluate(x_train, y_train)\n",
    "        # print('Accuracy on training set:')\n",
    "        # print(f\"precision, recall, f1: {[precision, recall, f1]}\")\n",
    "        print(\"testing....\")\n",
    "        precision, recall, f1 = model.evaluate(x_test, y_test)\n",
    "        print('Accuracy on testing set:')\n",
    "        print(f\"precision, recall, f1: {[precision, recall, f1]}\")\n",
    "        r_res.extend([precision, recall, f])\n",
    "    res.append(r_res)"
   ]
  },
  {
   "cell_type": "markdown",
   "metadata": {
    "pycharm": {
     "name": "#%% md\n"
    }
   },
   "source": [
    "## References\n",
    "\n",
    "[1] P. He, J. Zhu, Z. Zheng, and M. R. Lyu, “Drain: An Online Log Parsing Approach with Fixed Depth Tree,” in 2017 IEEE International Conference on Web Services (ICWS), Jun. 2017, pp. 33–40, doi: 10.1109/ICWS.2017.13."
   ]
  }
 ],
 "metadata": {
  "kernelspec": {
   "display_name": "Python 3",
   "language": "python",
   "name": "python3"
  },
  "language_info": {
   "codemirror_mode": {
    "name": "ipython",
    "version": 3
   },
   "file_extension": ".py",
   "mimetype": "text/x-python",
   "name": "python",
   "nbconvert_exporter": "python",
   "pygments_lexer": "ipython3",
   "version": "3.9.7"
  },
  "toc": {
   "base_numbering": 1,
   "nav_menu": {},
   "number_sections": true,
   "sideBar": true,
   "skip_h1_title": false,
   "title_cell": "Table of Contents",
   "title_sidebar": "Contents",
   "toc_cell": false,
   "toc_position": {},
   "toc_section_display": true,
   "toc_window_display": true
  },
  "varInspector": {
   "cols": {
    "lenName": 16,
    "lenType": 16,
    "lenVar": 40
   },
   "kernels_config": {
    "python": {
     "delete_cmd_postfix": "",
     "delete_cmd_prefix": "del ",
     "library": "var_list.py",
     "varRefreshCmd": "print(var_dic_list())"
    },
    "r": {
     "delete_cmd_postfix": ") ",
     "delete_cmd_prefix": "rm(",
     "library": "var_list.r",
     "varRefreshCmd": "cat(var_dic_list()) "
    }
   },
   "position": {
    "height": "812.85px",
    "left": "1559px",
    "right": "20px",
    "top": "117px",
    "width": "341px"
   },
   "types_to_exclude": [
    "module",
    "function",
    "builtin_function_or_method",
    "instance",
    "_Feature"
   ],
   "window_display": true
  }
 },
 "nbformat": 4,
 "nbformat_minor": 2
}